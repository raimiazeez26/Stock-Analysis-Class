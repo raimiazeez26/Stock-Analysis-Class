{
 "cells": [
  {
   "cell_type": "markdown",
   "id": "0a9cef8a",
   "metadata": {},
   "source": [
    "# Stock Analysis OOP\n",
    "\n",
    "### A stock analysis class to analyse different metrics of a stock:\n",
    "* Get Stock data from yfinance\n",
    "* Log returns of stocks \n",
    "* Plot Prices\n",
    "* Plot log returns \n",
    "* Set ticker symbol\n",
    "* Calculate Mean Returns \n",
    "* Measure stick Volatility or Risk\n",
    "* Calculate Annualized performance of a stock"
   ]
  },
  {
   "cell_type": "code",
   "execution_count": 1,
   "id": "5c5d6ff6",
   "metadata": {},
   "outputs": [],
   "source": [
    "import pandas as pd\n",
    "import yfinance as yf\n",
    "import numpy as np\n",
    "import matplotlib.pyplot as plt\n",
    "import seaborn as sns\n",
    "sns.set_style(\"whitegrid\")\n",
    "\n",
    "import certifi\n",
    "import json\n"
   ]
  },
  {
   "cell_type": "code",
   "execution_count": 2,
   "id": "3f4b4b84",
   "metadata": {},
   "outputs": [],
   "source": [
    "class StockAnalysis(): #parent\n",
    "    def __init__(self, ticker, start, end):\n",
    "        self._ticker = ticker\n",
    "        self.start = start\n",
    "        self.end = end\n",
    "        self.get_data()\n",
    "        self.log_returns\n",
    "        \n",
    "    def __repr__(self):\n",
    "        return f\"Stock(ticker:{self._ticker}, start: {self.start}, end: {self.end})\"\n",
    "        \n",
    "        \n",
    "    def get_data(self):\n",
    "        \"\"\"\n",
    "        get stock data from yahoo finance\n",
    "        \n",
    "        \"\"\"\n",
    "        df = yf.download(self._ticker, self.start, self.end).Close.to_frame()\n",
    "        df.rename(columns = {\"Close\" : \"price\"}, inplace = True)\n",
    "        self.data = df\n",
    "        return df\n",
    "    \n",
    "    def log_returns(self):\n",
    "        \"\"\"\n",
    "        log returns, \n",
    "        returns the the log returns of stocks\n",
    "        \n",
    "        \"\"\"\n",
    "        \n",
    "        #self.data = self.get_data()\n",
    "        self.data[\"log_returns\"] = (np.log(self.data.price/self.data.price.shift(1)))\n",
    "        return self.data.dropna()\n",
    "       \n",
    "    \n",
    "    def plot_prices(self):\n",
    "        self.data.price.plot(figsize=(12,7))\n",
    "        plt.title(f\"{self._ticker} price chart\", fontsize = 15)\n",
    "        \n",
    "    def plot_log_returns(self, kind = \"ts\"):\n",
    "        if kind == \"ts\":\n",
    "            self.data.log_returns.plot(figsize = (12,7))\n",
    "            plt.title(f\"{self._ticker} log return chart\", fontsize = 15)\n",
    "        elif kind == \"hist\":\n",
    "            self.data.log_returns.hist(figsize = (12,7), bins = int(np.sqrt(len(self.data))))\n",
    "            plt.title(f\"{self._ticker} log return chart\", fontsize = 15)\n",
    "            \n",
    "    def set_ticker(self, ticker = None):\n",
    "        if ticker is not None:\n",
    "            self._ticker = ticker\n",
    "            self.get_data()\n",
    "            self.log_returns\n",
    "            \n",
    "    def mean_return(self, freq = None):\n",
    "        \"\"\"\n",
    "        expected returns, \n",
    "        returns the the expected value, or mean, of all the likely returns of investments comprising a portfolio.\n",
    "        \n",
    "        \"\"\"\n",
    "        \n",
    "        if freq is None:\n",
    "            return self.data.log_returns.mean()\n",
    "        else:\n",
    "            resampled_price = self.data.price.resample(freq).last()\n",
    "            resampled_returns = np.log(resampled_price / resampled_price.shift(1))\n",
    "            return resampled_returns.mean()\n",
    "        \n",
    "    def std_return(self, freq = None):\n",
    "                \n",
    "        \"\"\"\n",
    "        volatility/risk,\n",
    "        returns the measure of volatility or risk.\n",
    "        \"\"\"\n",
    "        if freq is None:\n",
    "            return self.data.log_returns.std()\n",
    "        else:\n",
    "            resampled_price = self.data.price.resample(freq).last()\n",
    "            resampled_returns = np.log(resampled_price / resampled_price.shift(1))\n",
    "            return resampled_returns.std()\n",
    "        \n",
    "    def annualized_perf(self):\n",
    "        mean_return = round(self.data.log_returns.mean() *252, 3)\n",
    "        risk = round(self.data.log_returns.std() *np.sqrt(252), 3)\n",
    "        print(f\"Return {mean_return}  | Risk: {risk}\")\n",
    "        \n",
    "    \n",
    "        \n",
    "            \n",
    "        "
   ]
  },
  {
   "cell_type": "code",
   "execution_count": 3,
   "id": "ff99355b",
   "metadata": {},
   "outputs": [],
   "source": [
    "class StockMetrics(StockAnalysis): #child\n",
    "    \n",
    "    def __init__(self, ticker, start, end, limit):\n",
    "        self._ticker = ticker\n",
    "        self.start = start\n",
    "        self.end = end\n",
    "        self.api_key = \"0c8485686951686621a686be9a4dfc95\"\n",
    "        self.limit = limit\n",
    "    \n",
    "    def __repr__(self):\n",
    "        return f\"StockMetrics(ticker:{self._ticker}, start: {self.start}, end: {self.end})\"\n",
    "    \n",
    "    def company_metrics(self):\n",
    "        if self.limit is None:\n",
    "            URL =f\"https://financialmodelingprep.com/api/v3/key-metrics/{self._ticker}?limit=40&apikey={self.api_key}\"\n",
    "            df = pd.read_json(URL)\n",
    "            return df\n",
    "        else: \n",
    "            URL =f\"https://financialmodelingprep.com/api/v3/key-metrics/{self._ticker}?limit={limit}&apikey={api_key}\"\n",
    "            df = pd.read_json(URL)\n",
    "            return df\n",
    "            \n",
    "            "
   ]
  },
  {
   "cell_type": "code",
   "execution_count": 4,
   "id": "768066ab",
   "metadata": {},
   "outputs": [
    {
     "name": "stdout",
     "output_type": "stream",
     "text": [
      "[*********************100%***********************]  1 of 1 completed\n"
     ]
    }
   ],
   "source": [
    "stt = StockAnalysis(\"WMT\", \"2019-01-01\", \"2020-12-30\")"
   ]
  },
  {
   "cell_type": "code",
   "execution_count": 5,
   "id": "d84f0229",
   "metadata": {},
   "outputs": [
    {
     "name": "stdout",
     "output_type": "stream",
     "text": [
      "Stock(ticker:WMT, start: 2019-01-01, end: 2020-12-30)\n"
     ]
    }
   ],
   "source": [
    "print(stt)"
   ]
  },
  {
   "cell_type": "code",
   "execution_count": 6,
   "id": "56365463",
   "metadata": {},
   "outputs": [],
   "source": [
    "st= StockMetrics(\"WMT\", \"2019-01-01\", \"2020-12-30\", \"40\" )"
   ]
  },
  {
   "cell_type": "code",
   "execution_count": 7,
   "id": "e669fad0",
   "metadata": {},
   "outputs": [
    {
     "data": {
      "image/png": "[encoded data removed]",
      "text/plain": [
       "<Figure size 864x504 with 1 Axes>"
      ]
     },
     "metadata": {},
     "output_type": "display_data"
    }
   ],
   "source": [
    "stt.plot_prices()"
   ]
  },
  {
   "cell_type": "code",
   "execution_count": null,
   "id": "8f78c8c5",
   "metadata": {},
   "outputs": [],
   "source": []
  },
  {
   "cell_type": "code",
   "execution_count": 11,
   "id": "91f9404e",
   "metadata": {},
   "outputs": [
    {
     "name": "stdout",
     "output_type": "stream",
     "text": [
      "[*********************100%***********************]  1 of 1 completed\n"
     ]
    }
   ],
   "source": [
    "stock = StockAnalysis(\"TSLA\", \"2019-01-01\", \"2022-01-21\")"
   ]
  },
  {
   "cell_type": "code",
   "execution_count": 12,
   "id": "48a79225",
   "metadata": {},
   "outputs": [
    {
     "data": {
      "text/plain": [
       "StockMetrics(ticker:WMT, start: 2019-01-01, end: 2020-12-30)"
      ]
     },
     "execution_count": 12,
     "metadata": {},
     "output_type": "execute_result"
    }
   ],
   "source": [
    "st"
   ]
  },
  {
   "cell_type": "code",
   "execution_count": 13,
   "id": "d5da583f",
   "metadata": {
    "scrolled": true
   },
   "outputs": [
    {
     "data": {
      "text/html": [
       "<div>\n",
       "<style scoped>\n",
       "    .dataframe tbody tr th:only-of-type {\n",
       "        vertical-align: middle;\n",
       "    }\n",
       "\n",
       "    .dataframe tbody tr th {\n",
       "        vertical-align: top;\n",
       "    }\n",
       "\n",
       "    .dataframe thead th {\n",
       "        text-align: right;\n",
       "    }\n",
       "</style>\n",
       "<table border=\"1\" class=\"dataframe\">\n",
       "  <thead>\n",
       "    <tr style=\"text-align: right;\">\n",
       "      <th></th>\n",
       "      <th>price</th>\n",
       "      <th>log_returns</th>\n",
       "    </tr>\n",
       "    <tr>\n",
       "      <th>Date</th>\n",
       "      <th></th>\n",
       "      <th></th>\n",
       "    </tr>\n",
       "  </thead>\n",
       "  <tbody>\n",
       "    <tr>\n",
       "      <th>2019-01-02</th>\n",
       "      <td>62.023998</td>\n",
       "      <td>-0.070582</td>\n",
       "    </tr>\n",
       "    <tr>\n",
       "      <th>2019-01-03</th>\n",
       "      <td>60.071999</td>\n",
       "      <td>-0.031978</td>\n",
       "    </tr>\n",
       "    <tr>\n",
       "      <th>2019-01-04</th>\n",
       "      <td>63.537998</td>\n",
       "      <td>0.056094</td>\n",
       "    </tr>\n",
       "    <tr>\n",
       "      <th>2019-01-07</th>\n",
       "      <td>66.991997</td>\n",
       "      <td>0.052935</td>\n",
       "    </tr>\n",
       "    <tr>\n",
       "      <th>2019-01-08</th>\n",
       "      <td>67.070000</td>\n",
       "      <td>0.001164</td>\n",
       "    </tr>\n",
       "    <tr>\n",
       "      <th>...</th>\n",
       "      <td>...</td>\n",
       "      <td>...</td>\n",
       "    </tr>\n",
       "    <tr>\n",
       "      <th>2022-01-13</th>\n",
       "      <td>1031.560059</td>\n",
       "      <td>-0.069876</td>\n",
       "    </tr>\n",
       "    <tr>\n",
       "      <th>2022-01-14</th>\n",
       "      <td>1049.609985</td>\n",
       "      <td>0.017346</td>\n",
       "    </tr>\n",
       "    <tr>\n",
       "      <th>2022-01-18</th>\n",
       "      <td>1030.510010</td>\n",
       "      <td>-0.018365</td>\n",
       "    </tr>\n",
       "    <tr>\n",
       "      <th>2022-01-19</th>\n",
       "      <td>995.650024</td>\n",
       "      <td>-0.034413</td>\n",
       "    </tr>\n",
       "    <tr>\n",
       "      <th>2022-01-20</th>\n",
       "      <td>996.270020</td>\n",
       "      <td>0.000623</td>\n",
       "    </tr>\n",
       "  </tbody>\n",
       "</table>\n",
       "<p>770 rows × 2 columns</p>\n",
       "</div>"
      ],
      "text/plain": [
       "                  price  log_returns\n",
       "Date                                \n",
       "2019-01-02    62.023998    -0.070582\n",
       "2019-01-03    60.071999    -0.031978\n",
       "2019-01-04    63.537998     0.056094\n",
       "2019-01-07    66.991997     0.052935\n",
       "2019-01-08    67.070000     0.001164\n",
       "...                 ...          ...\n",
       "2022-01-13  1031.560059    -0.069876\n",
       "2022-01-14  1049.609985     0.017346\n",
       "2022-01-18  1030.510010    -0.018365\n",
       "2022-01-19   995.650024    -0.034413\n",
       "2022-01-20   996.270020     0.000623\n",
       "\n",
       "[770 rows x 2 columns]"
      ]
     },
     "execution_count": 13,
     "metadata": {},
     "output_type": "execute_result"
    }
   ],
   "source": [
    "stock.log_returns()"
   ]
  },
  {
   "cell_type": "code",
   "execution_count": 31,
   "id": "eedd2e9f",
   "metadata": {},
   "outputs": [],
   "source": [
    "#stock.set_ticker(\"WMT\") "
   ]
  },
  {
   "cell_type": "code",
   "execution_count": 14,
   "id": "479abf60",
   "metadata": {},
   "outputs": [
    {
     "data": {
      "text/plain": [
       "0.6764786412391077"
      ]
     },
     "execution_count": 14,
     "metadata": {},
     "output_type": "execute_result"
    }
   ],
   "source": [
    "stock.mean_return(freq = \"y\")\n"
   ]
  },
  {
   "cell_type": "code",
   "execution_count": 15,
   "id": "297b23f6",
   "metadata": {},
   "outputs": [
    {
     "data": {
      "text/plain": [
       "0.9891325308088361"
      ]
     },
     "execution_count": 15,
     "metadata": {},
     "output_type": "execute_result"
    }
   ],
   "source": [
    "stock.std_return(\"y\")"
   ]
  },
  {
   "cell_type": "code",
   "execution_count": 16,
   "id": "0510d950",
   "metadata": {},
   "outputs": [
    {
     "name": "stdout",
     "output_type": "stream",
     "text": [
      "Return 0.886  | Risk: 0.672\n"
     ]
    }
   ],
   "source": [
    "stock.annualized_perf()"
   ]
  },
  {
   "cell_type": "code",
   "execution_count": 17,
   "id": "b7db634f",
   "metadata": {},
   "outputs": [
    {
     "data": {
      "text/html": [
       "<div>\n",
       "<style scoped>\n",
       "    .dataframe tbody tr th:only-of-type {\n",
       "        vertical-align: middle;\n",
       "    }\n",
       "\n",
       "    .dataframe tbody tr th {\n",
       "        vertical-align: top;\n",
       "    }\n",
       "\n",
       "    .dataframe thead th {\n",
       "        text-align: right;\n",
       "    }\n",
       "</style>\n",
       "<table border=\"1\" class=\"dataframe\">\n",
       "  <thead>\n",
       "    <tr style=\"text-align: right;\">\n",
       "      <th></th>\n",
       "      <th>price</th>\n",
       "      <th>log_returns</th>\n",
       "    </tr>\n",
       "    <tr>\n",
       "      <th>Date</th>\n",
       "      <th></th>\n",
       "      <th></th>\n",
       "    </tr>\n",
       "  </thead>\n",
       "  <tbody>\n",
       "    <tr>\n",
       "      <th>2019-01-02</th>\n",
       "      <td>62.023998</td>\n",
       "      <td>-0.070582</td>\n",
       "    </tr>\n",
       "    <tr>\n",
       "      <th>2019-01-03</th>\n",
       "      <td>60.071999</td>\n",
       "      <td>-0.031978</td>\n",
       "    </tr>\n",
       "    <tr>\n",
       "      <th>2019-01-04</th>\n",
       "      <td>63.537998</td>\n",
       "      <td>0.056094</td>\n",
       "    </tr>\n",
       "    <tr>\n",
       "      <th>2019-01-07</th>\n",
       "      <td>66.991997</td>\n",
       "      <td>0.052935</td>\n",
       "    </tr>\n",
       "    <tr>\n",
       "      <th>2019-01-08</th>\n",
       "      <td>67.070000</td>\n",
       "      <td>0.001164</td>\n",
       "    </tr>\n",
       "    <tr>\n",
       "      <th>...</th>\n",
       "      <td>...</td>\n",
       "      <td>...</td>\n",
       "    </tr>\n",
       "    <tr>\n",
       "      <th>2022-01-13</th>\n",
       "      <td>1031.560059</td>\n",
       "      <td>-0.069876</td>\n",
       "    </tr>\n",
       "    <tr>\n",
       "      <th>2022-01-14</th>\n",
       "      <td>1049.609985</td>\n",
       "      <td>0.017346</td>\n",
       "    </tr>\n",
       "    <tr>\n",
       "      <th>2022-01-18</th>\n",
       "      <td>1030.510010</td>\n",
       "      <td>-0.018365</td>\n",
       "    </tr>\n",
       "    <tr>\n",
       "      <th>2022-01-19</th>\n",
       "      <td>995.650024</td>\n",
       "      <td>-0.034413</td>\n",
       "    </tr>\n",
       "    <tr>\n",
       "      <th>2022-01-20</th>\n",
       "      <td>996.270020</td>\n",
       "      <td>0.000623</td>\n",
       "    </tr>\n",
       "  </tbody>\n",
       "</table>\n",
       "<p>770 rows × 2 columns</p>\n",
       "</div>"
      ],
      "text/plain": [
       "                  price  log_returns\n",
       "Date                                \n",
       "2019-01-02    62.023998    -0.070582\n",
       "2019-01-03    60.071999    -0.031978\n",
       "2019-01-04    63.537998     0.056094\n",
       "2019-01-07    66.991997     0.052935\n",
       "2019-01-08    67.070000     0.001164\n",
       "...                 ...          ...\n",
       "2022-01-13  1031.560059    -0.069876\n",
       "2022-01-14  1049.609985     0.017346\n",
       "2022-01-18  1030.510010    -0.018365\n",
       "2022-01-19   995.650024    -0.034413\n",
       "2022-01-20   996.270020     0.000623\n",
       "\n",
       "[770 rows x 2 columns]"
      ]
     },
     "execution_count": 17,
     "metadata": {},
     "output_type": "execute_result"
    }
   ],
   "source": [
    "ss = stock.log_returns()\n",
    "ss"
   ]
  },
  {
   "cell_type": "code",
   "execution_count": 18,
   "id": "d52e4469",
   "metadata": {},
   "outputs": [
    {
     "data": {
      "text/plain": [
       "<bound method f of <pandas.core.resample.DatetimeIndexResampler object at 0x000001BF6ECCCB80>>"
      ]
     },
     "execution_count": 18,
     "metadata": {},
     "output_type": "execute_result"
    }
   ],
   "source": [
    "resampled_price = ss.price.resample(\"w\").last\n",
    "#resampled_returns = np.log(resampled_price / resampled_price.shift(1))\n",
    "resampled_price"
   ]
  },
  {
   "cell_type": "code",
   "execution_count": 19,
   "id": "6a2ee2f9",
   "metadata": {},
   "outputs": [
    {
     "data": {
      "text/plain": [
       "Date\n",
       "2019-01-06      63.537998\n",
       "2019-01-13      69.452003\n",
       "2019-01-20      60.452000\n",
       "2019-01-27      59.408001\n",
       "2019-02-03      62.442001\n",
       "                 ...     \n",
       "2021-12-26    1067.000000\n",
       "2022-01-02    1056.780029\n",
       "2022-01-09    1026.959961\n",
       "2022-01-16    1049.609985\n",
       "2022-01-23     996.270020\n",
       "Freq: W-SUN, Name: price, Length: 160, dtype: float64"
      ]
     },
     "execution_count": 19,
     "metadata": {},
     "output_type": "execute_result"
    }
   ],
   "source": [
    "resampled_price = ss.price.resample('w').last()\n",
    "resampled_price"
   ]
  },
  {
   "cell_type": "code",
   "execution_count": 20,
   "id": "7aefc2dd",
   "metadata": {},
   "outputs": [
    {
     "data": {
      "text/plain": [
       "Date\n",
       "2019-01-06         NaN\n",
       "2019-01-13    0.088998\n",
       "2019-01-20   -0.138786\n",
       "2019-01-27   -0.017421\n",
       "2019-02-03    0.049809\n",
       "                ...   \n",
       "2021-12-26    0.134662\n",
       "2022-01-02   -0.009624\n",
       "2022-01-09   -0.028624\n",
       "2022-01-16    0.021816\n",
       "2022-01-23   -0.052156\n",
       "Freq: W-SUN, Name: price, Length: 160, dtype: float64"
      ]
     },
     "execution_count": 20,
     "metadata": {},
     "output_type": "execute_result"
    }
   ],
   "source": [
    "resampled_returns = np.log(resampled_price / resampled_price.shift(1))\n",
    "resampled_returns"
   ]
  },
  {
   "cell_type": "code",
   "execution_count": 22,
   "id": "97dfe85e",
   "metadata": {
    "scrolled": false
   },
   "outputs": [
    {
     "data": {
      "image/png": "[encoded data removed]",
      "text/plain": [
       "<Figure size 864x504 with 1 Axes>"
      ]
     },
     "metadata": {},
     "output_type": "display_data"
    }
   ],
   "source": [
    "stock.plot_prices()"
   ]
  },
  {
   "cell_type": "code",
   "execution_count": 23,
   "id": "f61ae5a4",
   "metadata": {},
   "outputs": [
    {
     "data": {
      "image/png": "[encoded data removed]",
      "text/plain": [
       "<Figure size 864x504 with 1 Axes>"
      ]
     },
     "metadata": {},
     "output_type": "display_data"
    }
   ],
   "source": [
    "stock.plot_log_returns(\"hist\")"
   ]
  },
  {
   "cell_type": "code",
   "execution_count": null,
   "id": "fe69f9ba",
   "metadata": {},
   "outputs": [],
   "source": []
  },
  {
   "cell_type": "code",
   "execution_count": 28,
   "id": "5a9cf95a",
   "metadata": {},
   "outputs": [
    {
     "data": {
      "text/plain": [
       "'TSLA'"
      ]
     },
     "execution_count": 28,
     "metadata": {},
     "output_type": "execute_result"
    }
   ],
   "source": [
    "stock._ticker"
   ]
  },
  {
   "cell_type": "code",
   "execution_count": 25,
   "id": "e75750b8",
   "metadata": {},
   "outputs": [
    {
     "name": "stdout",
     "output_type": "stream",
     "text": [
      "[*********************100%***********************]  1 of 1 completed\n"
     ]
    },
    {
     "data": {
      "text/html": [
       "<div>\n",
       "<style scoped>\n",
       "    .dataframe tbody tr th:only-of-type {\n",
       "        vertical-align: middle;\n",
       "    }\n",
       "\n",
       "    .dataframe tbody tr th {\n",
       "        vertical-align: top;\n",
       "    }\n",
       "\n",
       "    .dataframe thead th {\n",
       "        text-align: right;\n",
       "    }\n",
       "</style>\n",
       "<table border=\"1\" class=\"dataframe\">\n",
       "  <thead>\n",
       "    <tr style=\"text-align: right;\">\n",
       "      <th></th>\n",
       "      <th>price</th>\n",
       "    </tr>\n",
       "    <tr>\n",
       "      <th>Date</th>\n",
       "      <th></th>\n",
       "    </tr>\n",
       "  </thead>\n",
       "  <tbody>\n",
       "    <tr>\n",
       "      <th>2018-12-31</th>\n",
       "      <td>66.559998</td>\n",
       "    </tr>\n",
       "    <tr>\n",
       "      <th>2019-01-02</th>\n",
       "      <td>62.023998</td>\n",
       "    </tr>\n",
       "    <tr>\n",
       "      <th>2019-01-03</th>\n",
       "      <td>60.071999</td>\n",
       "    </tr>\n",
       "    <tr>\n",
       "      <th>2019-01-04</th>\n",
       "      <td>63.537998</td>\n",
       "    </tr>\n",
       "    <tr>\n",
       "      <th>2019-01-07</th>\n",
       "      <td>66.991997</td>\n",
       "    </tr>\n",
       "    <tr>\n",
       "      <th>...</th>\n",
       "      <td>...</td>\n",
       "    </tr>\n",
       "    <tr>\n",
       "      <th>2022-01-13</th>\n",
       "      <td>1031.560059</td>\n",
       "    </tr>\n",
       "    <tr>\n",
       "      <th>2022-01-14</th>\n",
       "      <td>1049.609985</td>\n",
       "    </tr>\n",
       "    <tr>\n",
       "      <th>2022-01-18</th>\n",
       "      <td>1030.510010</td>\n",
       "    </tr>\n",
       "    <tr>\n",
       "      <th>2022-01-19</th>\n",
       "      <td>995.650024</td>\n",
       "    </tr>\n",
       "    <tr>\n",
       "      <th>2022-01-20</th>\n",
       "      <td>996.270020</td>\n",
       "    </tr>\n",
       "  </tbody>\n",
       "</table>\n",
       "<p>771 rows × 1 columns</p>\n",
       "</div>"
      ],
      "text/plain": [
       "                  price\n",
       "Date                   \n",
       "2018-12-31    66.559998\n",
       "2019-01-02    62.023998\n",
       "2019-01-03    60.071999\n",
       "2019-01-04    63.537998\n",
       "2019-01-07    66.991997\n",
       "...                 ...\n",
       "2022-01-13  1031.560059\n",
       "2022-01-14  1049.609985\n",
       "2022-01-18  1030.510010\n",
       "2022-01-19   995.650024\n",
       "2022-01-20   996.270020\n",
       "\n",
       "[771 rows x 1 columns]"
      ]
     },
     "execution_count": 25,
     "metadata": {},
     "output_type": "execute_result"
    }
   ],
   "source": [
    "sd = stock.get_data()\n",
    "sd"
   ]
  },
  {
   "cell_type": "code",
   "execution_count": 26,
   "id": "529f304a",
   "metadata": {},
   "outputs": [
    {
     "data": {
      "text/html": [
       "<div>\n",
       "<style scoped>\n",
       "    .dataframe tbody tr th:only-of-type {\n",
       "        vertical-align: middle;\n",
       "    }\n",
       "\n",
       "    .dataframe tbody tr th {\n",
       "        vertical-align: top;\n",
       "    }\n",
       "\n",
       "    .dataframe thead th {\n",
       "        text-align: right;\n",
       "    }\n",
       "</style>\n",
       "<table border=\"1\" class=\"dataframe\">\n",
       "  <thead>\n",
       "    <tr style=\"text-align: right;\">\n",
       "      <th></th>\n",
       "      <th>price</th>\n",
       "      <th>log_returns</th>\n",
       "    </tr>\n",
       "    <tr>\n",
       "      <th>Date</th>\n",
       "      <th></th>\n",
       "      <th></th>\n",
       "    </tr>\n",
       "  </thead>\n",
       "  <tbody>\n",
       "    <tr>\n",
       "      <th>2019-01-02</th>\n",
       "      <td>62.023998</td>\n",
       "      <td>-0.070582</td>\n",
       "    </tr>\n",
       "    <tr>\n",
       "      <th>2019-01-03</th>\n",
       "      <td>60.071999</td>\n",
       "      <td>-0.031978</td>\n",
       "    </tr>\n",
       "    <tr>\n",
       "      <th>2019-01-04</th>\n",
       "      <td>63.537998</td>\n",
       "      <td>0.056094</td>\n",
       "    </tr>\n",
       "    <tr>\n",
       "      <th>2019-01-07</th>\n",
       "      <td>66.991997</td>\n",
       "      <td>0.052935</td>\n",
       "    </tr>\n",
       "    <tr>\n",
       "      <th>2019-01-08</th>\n",
       "      <td>67.070000</td>\n",
       "      <td>0.001164</td>\n",
       "    </tr>\n",
       "    <tr>\n",
       "      <th>...</th>\n",
       "      <td>...</td>\n",
       "      <td>...</td>\n",
       "    </tr>\n",
       "    <tr>\n",
       "      <th>2022-01-13</th>\n",
       "      <td>1031.560059</td>\n",
       "      <td>-0.069876</td>\n",
       "    </tr>\n",
       "    <tr>\n",
       "      <th>2022-01-14</th>\n",
       "      <td>1049.609985</td>\n",
       "      <td>0.017346</td>\n",
       "    </tr>\n",
       "    <tr>\n",
       "      <th>2022-01-18</th>\n",
       "      <td>1030.510010</td>\n",
       "      <td>-0.018365</td>\n",
       "    </tr>\n",
       "    <tr>\n",
       "      <th>2022-01-19</th>\n",
       "      <td>995.650024</td>\n",
       "      <td>-0.034413</td>\n",
       "    </tr>\n",
       "    <tr>\n",
       "      <th>2022-01-20</th>\n",
       "      <td>996.270020</td>\n",
       "      <td>0.000623</td>\n",
       "    </tr>\n",
       "  </tbody>\n",
       "</table>\n",
       "<p>770 rows × 2 columns</p>\n",
       "</div>"
      ],
      "text/plain": [
       "                  price  log_returns\n",
       "Date                                \n",
       "2019-01-02    62.023998    -0.070582\n",
       "2019-01-03    60.071999    -0.031978\n",
       "2019-01-04    63.537998     0.056094\n",
       "2019-01-07    66.991997     0.052935\n",
       "2019-01-08    67.070000     0.001164\n",
       "...                 ...          ...\n",
       "2022-01-13  1031.560059    -0.069876\n",
       "2022-01-14  1049.609985     0.017346\n",
       "2022-01-18  1030.510010    -0.018365\n",
       "2022-01-19   995.650024    -0.034413\n",
       "2022-01-20   996.270020     0.000623\n",
       "\n",
       "[770 rows x 2 columns]"
      ]
     },
     "execution_count": 26,
     "metadata": {},
     "output_type": "execute_result"
    }
   ],
   "source": [
    "d = stock.log_returns()\n",
    "d"
   ]
  },
  {
   "cell_type": "code",
   "execution_count": 27,
   "id": "f7d3fada",
   "metadata": {},
   "outputs": [
    {
     "data": {
      "text/plain": [
       "<AxesSubplot:xlabel='Date'>"
      ]
     },
     "execution_count": 27,
     "metadata": {},
     "output_type": "execute_result"
    },
    {
     "data": {
      "image/png": "[encoded data removed]",
      "text/plain": [
       "<Figure size 432x288 with 1 Axes>"
      ]
     },
     "metadata": {},
     "output_type": "display_data"
    }
   ],
   "source": [
    "d.plot()"
   ]
  },
  {
   "cell_type": "code",
   "execution_count": null,
   "id": "d2e5c36a",
   "metadata": {},
   "outputs": [],
   "source": []
  }
 ],
 "metadata": {
  "kernelspec": {
   "display_name": "Python 3 (ipykernel)",
   "language": "python",
   "name": "python3"
  },
  "language_info": {
   "codemirror_mode": {
    "name": "ipython",
    "version": 3
   },
   "file_extension": ".py",
   "mimetype": "text/x-python",
   "name": "python",
   "nbconvert_exporter": "python",
   "pygments_lexer": "ipython3",
   "version": "3.9.7"
  }
 },
 "nbformat": 4,
 "nbformat_minor": 5
}
